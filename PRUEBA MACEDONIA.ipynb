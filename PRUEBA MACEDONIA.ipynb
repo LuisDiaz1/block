{
 "cells": [
  {
   "cell_type": "code",
   "execution_count": 2,
   "id": "1eab9789",
   "metadata": {},
   "outputs": [],
   "source": [
    "for i in range (4):\n",
    "    s=0\n",
    "    i+=1\n",
    "    s+=1\n"
   ]
  },
  {
   "cell_type": "markdown",
   "id": "019f6a27",
   "metadata": {},
   "source": [
    "![](https://i.blogs.es/0cafeb/naruto/450_1000.jpeg)"
   ]
  },
  {
   "cell_type": "code",
   "execution_count": null,
   "id": "0784b07f",
   "metadata": {},
   "outputs": [],
   "source": [
    "![]("
   ]
  }
 ],
 "metadata": {
  "kernelspec": {
   "display_name": "Python 3 (ipykernel)",
   "language": "python",
   "name": "python3"
  },
  "language_info": {
   "codemirror_mode": {
    "name": "ipython",
    "version": 3
   },
   "file_extension": ".py",
   "mimetype": "text/x-python",
   "name": "python",
   "nbconvert_exporter": "python",
   "pygments_lexer": "ipython3",
   "version": "3.9.13"
  }
 },
 "nbformat": 4,
 "nbformat_minor": 5
}
